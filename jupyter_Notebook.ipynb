{
 "cells": [
  {
   "cell_type": "markdown",
   "metadata": {},
   "source": [
    "# Omar Gamil Abdelhady\n",
    "# Task 2 : Color Identification in Images"
   ]
  },
  {
   "cell_type": "markdown",
   "metadata": {},
   "source": [
    "# Importing libraries"
   ]
  },
  {
   "cell_type": "code",
   "execution_count": null,
   "metadata": {},
   "outputs": [],
   "source": [
    "from numpy import min \n",
    "import pandas as pd\n",
    "import cv2\n",
    "#Creating Path\n",
    "img_path = 'images\\pic1.jpg'\n",
    "csv_path = 'images\\colors.csv'\n",
    "index = ['color','color_name','Hex','Red','Green','Blue']\n",
    "df = pd.read_csv(csv_path, names=index, header=None) \n",
    "\n",
    "img = cv2.imread(img_path)\n",
    "img = cv2.resize(img,(800,600)) "
   ]
  },
  {
   "cell_type": "markdown",
   "metadata": {},
   "source": [
    "# Intializing Coordinates"
   ]
  },
  {
   "cell_type": "code",
   "execution_count": null,
   "metadata": {},
   "outputs": [],
   "source": [
    "clicked = False\n",
    "b = g = r = x_position = y_position = 0"
   ]
  },
  {
   "cell_type": "markdown",
   "metadata": {},
   "source": [
    "# Read image in RGB color space"
   ]
  },
  {
   "cell_type": "code",
   "execution_count": null,
   "metadata": {},
   "outputs": [],
   "source": [
    "def get_color(Red, Green, Blue):\n",
    "    min = 2000\n",
    "    for i in range(len(df)):\n",
    "        z = abs(Red - int(df.loc[i,'Red'])) + abs(Green - int(df.loc[i,'Green'])) + abs(Blue- int(df.loc[i,'Blue']))\n",
    "        if z <= min:\n",
    "            min = z\n",
    "            col_name = df.loc[i,'color_name']\n",
    "    return col_name"
   ]
  },
  {
   "cell_type": "markdown",
   "metadata": {},
   "source": [
    "# Defined Function to OpenCV"
   ]
  },
  {
   "cell_type": "code",
   "execution_count": null,
   "metadata": {},
   "outputs": [],
   "source": [
    "def draw_function(occasion, x_coordinate, y_coordinate, flags, frame_work):\n",
    "    if occasion == cv2.EVENT_LBUTTONDBLCLK:\n",
    "        global clicked, g, r, b, x_position, y_position \n",
    "        clicked = True\n",
    "        x_position = x_coordinate\n",
    "        y_position = y_coordinate\n",
    "        b, g, r = img[y_coordinate, x_coordinate]\n",
    "        b = int(b)\n",
    "        g = int(g)\n",
    "        r = int(r)"
   ]
  },
  {
   "cell_type": "markdown",
   "metadata": {},
   "source": [
    "# Displaying Results on the Window"
   ]
  },
  {
   "cell_type": "code",
   "execution_count": null,
   "metadata": {},
   "outputs": [],
   "source": [
    "# Displaying img \n",
    "cv2.namedWindow('image')\n",
    "cv2.setMouseCallback('image',draw_function )\n",
    "while True:\n",
    "    cv2.imshow('image',img)\n",
    "    if clicked == True:\n",
    "        #cv2.rectangle(image, starting_point, Final_point, color, thickness)\n",
    "        cv2.rectangle(img, (20,20), (1000,70), (b,g,r), -1)\n",
    "        # Creating Text to display the RGB Values\n",
    "        text = get_color(r, g, b) + '//Red = ' + str(r) + ' Green = ' + str(g) + ' Blue = ' + str(b)\n",
    "        # cv2.put_text(image, text, )\n",
    "        cv2.putText(img, text, (50,50), 2, 0.8, (255,255,255), 2, cv2.LINE_AA)\n",
    "\n",
    "    if r + g +b >= 1000:\n",
    "          cv2.putText(img, text, (50,50), 2, 0.8, (0,0,0), 2, cv2.LINE_AA)\n",
    "\n",
    "    if cv2.waitKey(20) & 0xFF == 27:\n",
    "        break\n",
    "\n",
    "        \n",
    "\n",
    "cv2.destroyAllWindows() "
   ]
  }
 ],
 "metadata": {
  "language_info": {
   "name": "python"
  },
  "orig_nbformat": 4
 },
 "nbformat": 4,
 "nbformat_minor": 2
}
